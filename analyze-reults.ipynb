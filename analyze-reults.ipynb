{
 "cells": [
  {
   "cell_type": "code",
   "execution_count": 1,
   "metadata": {},
   "outputs": [],
   "source": [
    "import pandas as pd\n",
    "import glob\n",
    "files = []\n",
    "for file in glob.glob(\"./results/*.csv\"):\n",
    "    files.append(file)\n",
    "    "
   ]
  },
  {
   "cell_type": "code",
   "execution_count": 2,
   "metadata": {},
   "outputs": [],
   "source": [
    "dfs = []\n",
    "for file in files:\n",
    "    df = pd.read_csv(file)\n",
    "    splitted = file.split(\"_\")\n",
    "    dataset_name = splitted[0].split(\"/\")[-1]\n",
    "    num_hidden = splitted[1]\n",
    "    z_dim = splitted[2]\n",
    "    num_epochs = splitted[-2].split(\":\")[-1]  \n",
    "    df[\"dataset_name\"] = dataset_name\n",
    "    df[\"num_hidden\"] = num_hidden.split(\":\")[-1]\n",
    "    df[\"z_dim\"] = z_dim.split(\":\")[-1]\n",
    "    df[\"num_epochs\"] = int(num_epochs)\n",
    "    dfs.append(df)\n"
   ]
  },
  {
   "cell_type": "code",
   "execution_count": 3,
   "metadata": {},
   "outputs": [
    {
     "data": {
      "text/html": [
       "<div>\n",
       "<style scoped>\n",
       "    .dataframe tbody tr th:only-of-type {\n",
       "        vertical-align: middle;\n",
       "    }\n",
       "\n",
       "    .dataframe tbody tr th {\n",
       "        vertical-align: top;\n",
       "    }\n",
       "\n",
       "    .dataframe thead th {\n",
       "        text-align: right;\n",
       "    }\n",
       "</style>\n",
       "<table border=\"1\" class=\"dataframe\">\n",
       "  <thead>\n",
       "    <tr style=\"text-align: right;\">\n",
       "      <th></th>\n",
       "      <th>x</th>\n",
       "      <th>y</th>\n",
       "      <th>exp_name</th>\n",
       "      <th>dataset_name</th>\n",
       "      <th>num_hidden</th>\n",
       "      <th>z_dim</th>\n",
       "      <th>num_epochs</th>\n",
       "    </tr>\n",
       "  </thead>\n",
       "  <tbody>\n",
       "    <tr>\n",
       "      <th>0</th>\n",
       "      <td>1.042447</td>\n",
       "      <td>-0.223970</td>\n",
       "      <td>./results/circles_nbhidden:32_zdim:16_batchsiz...</td>\n",
       "      <td>circles</td>\n",
       "      <td>32</td>\n",
       "      <td>16</td>\n",
       "      <td>460</td>\n",
       "    </tr>\n",
       "    <tr>\n",
       "      <th>1</th>\n",
       "      <td>0.514690</td>\n",
       "      <td>0.215803</td>\n",
       "      <td>./results/circles_nbhidden:32_zdim:16_batchsiz...</td>\n",
       "      <td>circles</td>\n",
       "      <td>32</td>\n",
       "      <td>16</td>\n",
       "      <td>460</td>\n",
       "    </tr>\n",
       "    <tr>\n",
       "      <th>2</th>\n",
       "      <td>0.396905</td>\n",
       "      <td>0.410973</td>\n",
       "      <td>./results/circles_nbhidden:32_zdim:16_batchsiz...</td>\n",
       "      <td>circles</td>\n",
       "      <td>32</td>\n",
       "      <td>16</td>\n",
       "      <td>460</td>\n",
       "    </tr>\n",
       "    <tr>\n",
       "      <th>3</th>\n",
       "      <td>0.197848</td>\n",
       "      <td>-0.457073</td>\n",
       "      <td>./results/circles_nbhidden:32_zdim:16_batchsiz...</td>\n",
       "      <td>circles</td>\n",
       "      <td>32</td>\n",
       "      <td>16</td>\n",
       "      <td>460</td>\n",
       "    </tr>\n",
       "    <tr>\n",
       "      <th>4</th>\n",
       "      <td>0.012551</td>\n",
       "      <td>0.220752</td>\n",
       "      <td>./results/circles_nbhidden:32_zdim:16_batchsiz...</td>\n",
       "      <td>circles</td>\n",
       "      <td>32</td>\n",
       "      <td>16</td>\n",
       "      <td>460</td>\n",
       "    </tr>\n",
       "  </tbody>\n",
       "</table>\n",
       "</div>"
      ],
      "text/plain": [
       "          x         y                                           exp_name  \\\n",
       "0  1.042447 -0.223970  ./results/circles_nbhidden:32_zdim:16_batchsiz...   \n",
       "1  0.514690  0.215803  ./results/circles_nbhidden:32_zdim:16_batchsiz...   \n",
       "2  0.396905  0.410973  ./results/circles_nbhidden:32_zdim:16_batchsiz...   \n",
       "3  0.197848 -0.457073  ./results/circles_nbhidden:32_zdim:16_batchsiz...   \n",
       "4  0.012551  0.220752  ./results/circles_nbhidden:32_zdim:16_batchsiz...   \n",
       "\n",
       "  dataset_name num_hidden z_dim  num_epochs  \n",
       "0      circles         32    16         460  \n",
       "1      circles         32    16         460  \n",
       "2      circles         32    16         460  \n",
       "3      circles         32    16         460  \n",
       "4      circles         32    16         460  "
      ]
     },
     "execution_count": 3,
     "metadata": {},
     "output_type": "execute_result"
    }
   ],
   "source": [
    "dfs[0].head()"
   ]
  },
  {
   "cell_type": "code",
   "execution_count": 4,
   "metadata": {},
   "outputs": [],
   "source": [
    "all_dfs = pd.concat(dfs)"
   ]
  },
  {
   "cell_type": "code",
   "execution_count": 5,
   "metadata": {},
   "outputs": [
    {
     "data": {
      "text/plain": [
       "blobs      2424000\n",
       "circles    2424000\n",
       "moons      2424000\n",
       "Name: dataset_name, dtype: int64"
      ]
     },
     "execution_count": 5,
     "metadata": {},
     "output_type": "execute_result"
    }
   ],
   "source": [
    "all_dfs.dataset_name.value_counts()"
   ]
  },
  {
   "cell_type": "code",
   "execution_count": 6,
   "metadata": {},
   "outputs": [],
   "source": [
    "all_dfs.head()\n",
    "#df_subset = all_dfs[(all_dfs.dataset_name == 'moons') & (all_dfs.num_epochs == 100)]\n",
    "df_subset = all_dfs[(all_dfs.dataset_name == 'moons')]"
   ]
  },
  {
   "cell_type": "code",
   "execution_count": 7,
   "metadata": {},
   "outputs": [],
   "source": [
    "import plotly.express as px"
   ]
  },
  {
   "cell_type": "code",
   "execution_count": 8,
   "metadata": {},
   "outputs": [],
   "source": [
    "# px.scatter(df_subset.sort_values([\"num_epochs\", \"z_dim\", \"num_hidden\"], ascending=[1,1,1]), \n",
    "#            x = \"x\", y = \"y\", facet_col=\"num_hidden\", facet_row=\"z_dim\", \n",
    "#            opacity = .1, size_max = .5, animation_frame = \"num_epochs\", width = 1000, height = 1000)"
   ]
  },
  {
   "cell_type": "code",
   "execution_count": null,
   "metadata": {},
   "outputs": [],
   "source": []
  }
 ],
 "metadata": {
  "interpreter": {
   "hash": "bb52c3a3fbd28bed2787dfc92005f3c85b155acf67ba344390d117213f233e38"
  },
  "kernelspec": {
   "display_name": "Python 3",
   "language": "python",
   "name": "python3"
  },
  "language_info": {
   "codemirror_mode": {
    "name": "ipython",
    "version": 3
   },
   "file_extension": ".py",
   "mimetype": "text/x-python",
   "name": "python",
   "nbconvert_exporter": "python",
   "pygments_lexer": "ipython3",
   "version": "3.8.5"
  }
 },
 "nbformat": 4,
 "nbformat_minor": 4
}
