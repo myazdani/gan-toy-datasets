{
 "cells": [
  {
   "cell_type": "code",
   "execution_count": 1,
   "metadata": {},
   "outputs": [],
   "source": [
    "!mkdir results"
   ]
  },
  {
   "cell_type": "code",
   "execution_count": 2,
   "metadata": {},
   "outputs": [],
   "source": [
    "from run_experiments import *\n",
    "from tqdm import tqdm"
   ]
  },
  {
   "cell_type": "code",
   "execution_count": 3,
   "metadata": {},
   "outputs": [],
   "source": [
    "toy_datasets = generate_datasets()"
   ]
  },
  {
   "cell_type": "code",
   "execution_count": 4,
   "metadata": {},
   "outputs": [
    {
     "name": "stderr",
     "output_type": "stream",
     "text": [
      "16it [28:50, 108.15s/it]\n"
     ]
    }
   ],
   "source": [
    "z_dims = [2, 4, 8, 16]\n",
    "nb_hiddens = [32, 64, 128, 256]\n",
    "for z_dim, nb_hidden in tqdm(itertools.product(z_dims, nb_hiddens)):\n",
    "    run_experiment(toy_datasets, z_dim = z_dim, nb_hidden=nb_hidden, lr = 1e-3, \n",
    "                   nb_epochs=1000, save_rate = 10, batch_size=32)"
   ]
  }
 ],
 "metadata": {
  "interpreter": {
   "hash": "bb52c3a3fbd28bed2787dfc92005f3c85b155acf67ba344390d117213f233e38"
  },
  "kernelspec": {
   "display_name": "Python 3.8.5 64-bit ('research-dev': conda)",
   "language": "python",
   "name": "python3"
  },
  "language_info": {
   "codemirror_mode": {
    "name": "ipython",
    "version": 3
   },
   "file_extension": ".py",
   "mimetype": "text/x-python",
   "name": "python",
   "nbconvert_exporter": "python",
   "pygments_lexer": "ipython3",
   "version": "3.8.5"
  },
  "orig_nbformat": 4
 },
 "nbformat": 4,
 "nbformat_minor": 2
}
